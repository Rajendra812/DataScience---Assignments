{
 "cells": [
  {
   "cell_type": "markdown",
   "id": "473d14c4",
   "metadata": {},
   "source": [
    "# Exercise 1: Prime Numbers\n",
    "1) Write a Python program that checks whether a given number is prime or not. A prime number is a natural number greater than 1 that has no positive divisors other than 1 and itself."
   ]
  },
  {
   "cell_type": "code",
   "execution_count": 31,
   "id": "50e0520b",
   "metadata": {},
   "outputs": [
    {
     "name": "stdout",
     "output_type": "stream",
     "text": [
      "Enter a Number : 30\n",
      "30  is not a Prime Number\n"
     ]
    }
   ],
   "source": [
    "def is_prime(Num):\n",
    "    if Num <= 1:\n",
    "        return False\n",
    "    elif Num == 2:\n",
    "        return True\n",
    "    elif Num % 2 == 0:\n",
    "        return False\n",
    "    elif Num == 3:\n",
    "        return True\n",
    "    else:\n",
    "        if Num % 3 != 0:\n",
    "            return True\n",
    "        else:\n",
    "            return False\n",
    "        \n",
    "Num = int(input(\"Enter a Number : \"))\n",
    "if is_prime(Num):\n",
    "    print(Num, \" is a Prime Number\")\n",
    "else:\n",
    "    print(Num, \" is not a Prime Number\")"
   ]
  },
  {
   "cell_type": "markdown",
   "id": "f5420341",
   "metadata": {},
   "source": [
    "# Exercise 2: Product of Random Numbers\n",
    "2) Develop a Python program that generates two random numbers and asks the user to enter the product of these numbers. The program should then check if the user's answer is correct and display an appropriate message."
   ]
  },
  {
   "cell_type": "code",
   "execution_count": 29,
   "id": "ca0aa026",
   "metadata": {},
   "outputs": [
    {
     "name": "stdout",
     "output_type": "stream",
     "text": [
      "What is the product of 7 and 7? 14\n",
      "Incorrect. The correct answer is: 49\n"
     ]
    }
   ],
   "source": [
    "import random\n",
    "\n",
    "def generate_random_numbers():\n",
    "    num1 = random.randint(1, 10)\n",
    "    num2 = random.randint(1, 10)\n",
    "    return num1, num2\n",
    "\n",
    "def main():\n",
    "    num1, num2 = generate_random_numbers()\n",
    "    product = num1 * num2\n",
    "\n",
    "    user_input = int(input(f\"What is the product of {num1} and {num2}? \"))\n",
    "\n",
    "    if user_input == product:\n",
    "        print(\"Correct! Well done.\")\n",
    "    else:\n",
    "        print(\"Incorrect. The correct answer is:\", product)\n",
    "\n",
    "if __name__ == \"__main__\":\n",
    "    main()\n"
   ]
  },
  {
   "cell_type": "markdown",
   "id": "fbf4e624",
   "metadata": {},
   "source": [
    "# Exercise 3: Squares of Even/Odd Numbers\n",
    "3) Create a Python script that prints the squares of all even or odd numbers within the range of 100 to 200. Choose either even or odd numbers and document your choice in the code."
   ]
  },
  {
   "cell_type": "code",
   "execution_count": 36,
   "id": "f974185c",
   "metadata": {},
   "outputs": [
    {
     "name": "stdout",
     "output_type": "stream",
     "text": [
      "EVEN OR ODD: even\n",
      "Squares of even numbers within the range of 100 to 200:\n",
      "10000\n",
      "10404\n",
      "10816\n",
      "11236\n",
      "11664\n",
      "12100\n",
      "12544\n",
      "12996\n",
      "13456\n",
      "13924\n",
      "14400\n",
      "14884\n",
      "15376\n",
      "15876\n",
      "16384\n",
      "16900\n",
      "17424\n",
      "17956\n",
      "18496\n",
      "19044\n",
      "19600\n",
      "20164\n",
      "20736\n",
      "21316\n",
      "21904\n",
      "22500\n",
      "23104\n",
      "23716\n",
      "24336\n",
      "24964\n",
      "25600\n",
      "26244\n",
      "26896\n",
      "27556\n",
      "28224\n",
      "28900\n",
      "29584\n",
      "30276\n",
      "30976\n",
      "31684\n",
      "32400\n",
      "33124\n",
      "33856\n",
      "34596\n",
      "35344\n",
      "36100\n",
      "36864\n",
      "37636\n",
      "38416\n",
      "39204\n"
     ]
    }
   ],
   "source": [
    "def print_even_squares():\n",
    "    print(\"Squares of even numbers within the range of 100 to 200:\")\n",
    "    for num in range(100, 200):\n",
    "        if num % 2 == 0:  # Choosing even numbers\n",
    "            print(num ** 2)\n",
    "\n",
    "\n",
    "def print_odd_squares():\n",
    "    print(\"Squares of odd numbers within the range of 100 to 200:\")\n",
    "    for num in range(100, 201):\n",
    "        if num % 2 != 0:  # Choosing odd numbers\n",
    "            print(num ** 2)\n",
    "\n",
    "\n",
    "\n",
    "User_input = input(\"EVEN OR ODD: \" ).lower()\n",
    "if User_input == \"even\":\n",
    "    print_even_squares()\n",
    "elif User_input == \"odd\":\n",
    "    print_odd_squares()\n",
    "else:\n",
    "    print(\"Invalid Entry\")"
   ]
  },
  {
   "cell_type": "markdown",
   "id": "db56dc75",
   "metadata": {},
   "source": [
    "# Exercise 4: Word counter\n",
    "4) write a program to count the number of words in a given text.\n",
    "\n",
    "example:\n",
    "# input_text = \"This is a sample text. This text will be used to demonstrate the word counter.\"\n",
    "# Expected output:\n",
    "* 'This': 2 \n",
    "* 'is': 1\n",
    "* 'a': 1\n",
    "* 'sample': 1\n",
    "* 'text.': 1\n"
   ]
  },
  {
   "cell_type": "code",
   "execution_count": 9,
   "id": "beac66eb",
   "metadata": {},
   "outputs": [
    {
     "name": "stdout",
     "output_type": "stream",
     "text": [
      "'This': 2\n",
      "'is': 1\n",
      "'a': 1\n",
      "'sample': 1\n",
      "'text.': 1\n",
      "'text': 1\n",
      "'will': 1\n",
      "'be': 1\n",
      "'used': 1\n",
      "'to': 1\n",
      "'demonstrate': 1\n",
      "'the': 1\n",
      "'word': 1\n",
      "'counter.': 1\n"
     ]
    }
   ],
   "source": [
    "def count_words(text):\n",
    "    # Split the text into words using whitespace as the delimiter\n",
    "    words = text.split()\n",
    "    # Create an empty dictionary to store word counts\n",
    "    word_counts = {}\n",
    "        # Iterate through the words\n",
    "    for word in words:\n",
    "        # Increment the count for each word in the dictionary\n",
    "        word_counts[word] = word_counts.get(word, 0) + 1\n",
    "    return word_counts\n",
    "\n",
    "# Example usage:\n",
    "input_text = \"This is a sample text. This text will be used to demonstrate the word counter.\"\n",
    "word_counts = count_words(input_text)\n",
    "\n",
    "for word, count in word_counts.items():\n",
    "    print(f\"'{word}': {count}\")"
   ]
  },
  {
   "cell_type": "markdown",
   "id": "289b43e9",
   "metadata": {},
   "source": [
    "# Exercise 5: Check for Palindrome\n",
    "\n",
    "Write a Python function called is_palindrome that takes a string as input and returns True if the string is a palindrome, and False otherwise. A palindrome is a word, phrase, number, or other sequence of characters that reads the same forward and backward, ignoring spaces, punctuation, and capitalization.\n",
    "\n",
    "# Example:\n",
    "* Input: \"racecar\"\n",
    "* Expected Output: True\n"
   ]
  },
  {
   "cell_type": "code",
   "execution_count": 13,
   "id": "ce77780c",
   "metadata": {},
   "outputs": [
    {
     "name": "stdout",
     "output_type": "stream",
     "text": [
      "Enter the String :racecar\n",
      "True\n"
     ]
    }
   ],
   "source": [
    "def is_palindrome(s):\n",
    "    # Remove spaces and convert to lowercase\n",
    "    s = s.replace(\" \", \"\").lower()\n",
    "    # Check if the string is equal to its reverse\n",
    "    return s == s[::-1]\n",
    "\n",
    "# Example usage:\n",
    "input_str = str(input(\"Enter the String :\"))\n",
    "print(is_palindrome(input_str))  # Output: True\n"
   ]
  },
  {
   "cell_type": "code",
   "execution_count": null,
   "id": "3888b2cb",
   "metadata": {},
   "outputs": [],
   "source": []
  }
 ],
 "metadata": {
  "kernelspec": {
   "display_name": "Python 3 (ipykernel)",
   "language": "python",
   "name": "python3"
  },
  "language_info": {
   "codemirror_mode": {
    "name": "ipython",
    "version": 3
   },
   "file_extension": ".py",
   "mimetype": "text/x-python",
   "name": "python",
   "nbconvert_exporter": "python",
   "pygments_lexer": "ipython3",
   "version": "3.11.5"
  }
 },
 "nbformat": 4,
 "nbformat_minor": 5
}
