{
 "cells": [
  {
   "cell_type": "markdown",
   "id": "30cc2450",
   "metadata": {},
   "source": [
    "# HYPOTHESIS TESTING\n",
    "# Background:\n",
    "Bombay hospitality Ltd. operates a franchise model for producing exotic Norwegian dinners throughout New England. The operating cost for a franchise in a week (W) is given by the equation W = $1,000 + $5X, where X represents the number of units produced in a week. Recent feedback from restaurant owners suggests that this cost model may no longer be accurate, as their observed weekly operating costs are higher.\n",
    "# Objective:\n",
    "To investigate the restaurant owners' claim about the increase in weekly operating costs using hypothesis testing.\n",
    "# Data Provided:\n",
    "* The theoretical weekly operating cost model: W = $1,000 + $5X\n",
    "* Sample of 25 restaurants with a mean weekly cost of Rs. 3,050\n",
    "* Number of units produced in a week (X) follows a normal distribution with a mean (μ) of 600 units and a standard deviation (σ) of 25 units\n",
    "#  Assignment Tasks:\n",
    "1. State the Hypotheses statement:\n",
    "2. Calculate the Test Statistic:\n",
    "Use the following formula to calculate the test statistic (t):\n",
    "where:\n",
    "* ˉxˉ = sample mean weekly cost (Rs. 3,050)\n",
    "* μ = theoretical mean weekly cost according to the cost model (W = $1,000 + $5X for X = 600 units)\n",
    "* σ = 5*25 units\n",
    "* n = sample size (25 restaurants)\n",
    "3. Determine the Critical Value:\n",
    "Using the alpha level of 5% (α = 0.05), determine the critical value from the standard normal (Z) distribution table.\n",
    "4. Make a Decision:\n",
    "Compare the test statistic with the critical value to decide whether to reject the null hypothesis.\n",
    "5. Conclusion:\n",
    "Based on the decision in step 4, conclude whether there is strong evidence to support the restaurant owners' claim that the weekly operating costs are higher than the model suggests.\n"
   ]
  },
  {
   "cell_type": "markdown",
   "id": "0830c846",
   "metadata": {},
   "source": [
    "# ANSWERS:"
   ]
  },
  {
   "cell_type": "markdown",
   "id": "34ed6678",
   "metadata": {},
   "source": [
    "# 1. State the Hypotheses statement:\n",
    "* Null hypothesis (H0): The weekly operating costs are in line with the theoretical model, i.e., the mean weekly cost is equal to Rs. 1,000 + 5X, where X is the number of units produced in a week.\n",
    "* Alternative hypothesis (H1): The weekly operating costs are higher than predicted by the theoretical model, i.e., the mean weekly cost is greater than Rs. 1,000 + 5X."
   ]
  },
  {
   "cell_type": "markdown",
   "id": "182277a1",
   "metadata": {},
   "source": [
    "# 2. Calculate the Test Statistic:"
   ]
  },
  {
   "cell_type": "code",
   "execution_count": 10,
   "id": "c3822943",
   "metadata": {},
   "outputs": [
    {
     "name": "stdout",
     "output_type": "stream",
     "text": [
      "mu :  4000\n",
      "sigma :  125\n",
      "t :  -38.0\n"
     ]
    }
   ],
   "source": [
    "import math\n",
    "from scipy.stats import norm\n",
    "\n",
    "# Sample mean weekly cost\n",
    "x_bar = 3050\n",
    "\n",
    "# Theoretical mean weekly cost according to the model\n",
    "mu = 1000 + 5 * 600\n",
    "print(\"mu : \",mu)\n",
    "\n",
    "# Standard deviation\n",
    "sigma = 5 * 25\n",
    "print(\"sigma : \", sigma)\n",
    "# Sample size\n",
    "n = 25\n",
    "\n",
    "# Calculate the test statistic\n",
    "t = (x_bar - mu) / (sigma / math.sqrt(n))\n",
    "print(\"t : \", t)"
   ]
  },
  {
   "cell_type": "markdown",
   "id": "d4723ca0",
   "metadata": {},
   "source": [
    "# 3. Determine the Critical Value:\n",
    "* Since the alternative hypothesis is one-tailed (claiming that the costs are higher), we will use the right-tailed test.\n",
    "* Using an alpha level of 5% (α = 0.05), the critical value from the standard normal distribution table corresponds to a Z-score of approximately 1.645."
   ]
  },
  {
   "cell_type": "code",
   "execution_count": 11,
   "id": "54f8f18b",
   "metadata": {},
   "outputs": [
    {
     "name": "stdout",
     "output_type": "stream",
     "text": [
      "Test Statistic (t): -38.0\n",
      "Critical Value (Z): 1.6448536269514722\n"
     ]
    }
   ],
   "source": [
    "# Determine the critical value (right-tailed test, alpha = 0.05)\n",
    "alpha = 0.05\n",
    "critical_value = norm.ppf(1 - alpha) \n",
    "\n",
    "# Output the results\n",
    "print(\"Test Statistic (t):\", round(t, 2))\n",
    "print(\"Critical Value (Z):\", critical_value)"
   ]
  },
  {
   "cell_type": "markdown",
   "id": "0c61c359",
   "metadata": {},
   "source": [
    "# 4. Make a Decision:"
   ]
  },
  {
   "cell_type": "code",
   "execution_count": 9,
   "id": "76d8a2e7",
   "metadata": {},
   "outputs": [
    {
     "name": "stdout",
     "output_type": "stream",
     "text": [
      "Decision: Fail to reject the null hypothesis\n",
      "Conclusion: There is not enough evidence to support the restaurant owners' claim.\n"
     ]
    }
   ],
   "source": [
    "if t > critical_value:\n",
    "    print(\"Decision: Reject the null hypothesis\")\n",
    "    print(\"Conclusion: There is strong evidence to support the restaurant owners' claim.\")\n",
    "else:\n",
    "    print(\"Decision: Fail to reject the null hypothesis\")\n",
    "    print(\"Conclusion: There is not enough evidence to support the restaurant owners' claim.\")"
   ]
  },
  {
   "cell_type": "markdown",
   "id": "2583bede",
   "metadata": {},
   "source": [
    "# 5. Conclusion:"
   ]
  },
  {
   "cell_type": "markdown",
   "id": "7b5a29f1",
   "metadata": {},
   "source": [
    "Based on the decision Fail to reject the null hypothesis, There is not enough evidence to support the restaurant owners' claim."
   ]
  },
  {
   "cell_type": "code",
   "execution_count": null,
   "id": "57848aa8",
   "metadata": {},
   "outputs": [],
   "source": []
  },
  {
   "cell_type": "code",
   "execution_count": null,
   "id": "5b8a4cac",
   "metadata": {},
   "outputs": [],
   "source": []
  },
  {
   "attachments": {
    "image.png": {
     "image/png": "[encoded data removed]"
    }
   },
   "cell_type": "markdown",
   "id": "903ef4d7",
   "metadata": {},
   "source": [
    "# CHI-SQUARE TEST\n",
    "\n",
    "Association between Device Type and Customer Satisfaction\n",
    "# Background:\n",
    "Mizzare Corporation has collected data on customer satisfaction levels for two types of smart home devices: Smart Thermostats and Smart Lights. They want to determine if there's a significant association between the type of device purchased and the customer's satisfaction level.\n",
    "# Data Provided:\n",
    "The data is summarized in a contingency table showing the counts of customers in each satisfaction level for both types of devices:\n",
    "![image.png](attachment:image.png)\n",
    "\n",
    "# Objective:\n",
    "To use the Chi-Square test for independence to determine if there's a significant association between the type of smart home device purchased (Smart Thermostats vs. Smart Lights) and the customer satisfaction level.\n",
    "# Assignment Tasks:\n",
    "1. State the Hypotheses:\n",
    "2. Compute the Chi-Square Statistic:\n",
    "3. Determine the Critical Value:\n",
    "Using the significance level (alpha) of 0.05 and the degrees of freedom (which is the number of categories minus 1)\n",
    "4. Make a Decision:\n",
    "Compare the Chi-Square statistic with the critical value to decide whether to reject the null hypothesis.\n",
    "\n"
   ]
  },
  {
   "cell_type": "markdown",
   "id": "98cb2ec3",
   "metadata": {},
   "source": [
    "# Answers"
   ]
  },
  {
   "cell_type": "markdown",
   "id": "fc19fc6a",
   "metadata": {},
   "source": [
    "1. State the Hypotheses:\n",
    "* Null hypothesis (H0): There is no association between the type of smart home device purchased and the customer's satisfaction level.\n",
    "* Alternative hypothesis (H1): There is an association between the type of smart home device purchased and the customer's satisfaction level"
   ]
  },
  {
   "attachments": {
    "image-2.png": {
     "image/png": "[encoded data removed]"
    }
   },
   "cell_type": "markdown",
   "id": "17af9be0",
   "metadata": {},
   "source": [
    "2. Compute the Chi-Square Statistic:\n",
    "* The formula for the chi-square statistic in a contingency table is:\n",
    "![image-2.png](attachment:image-2.png)"
   ]
  },
  {
   "cell_type": "markdown",
   "id": "5fa71f50",
   "metadata": {},
   "source": [
    "3. Determine the Critical Value:\n",
    "* We will use the significance level (alpha) of 0.05.\n",
    "* Degrees of freedom = (Number of rows - 1) * (Number of columns - 1)"
   ]
  },
  {
   "cell_type": "markdown",
   "id": "112433fb",
   "metadata": {},
   "source": []
  },
  {
   "cell_type": "code",
   "execution_count": 18,
   "id": "3e4c1cb4",
   "metadata": {},
   "outputs": [
    {
     "name": "stdout",
     "output_type": "stream",
     "text": [
      "row_totals :  [120 180 150  80  70]\n",
      "col_totals :  [240 360]\n",
      "grand_total :  600\n",
      "expected :  [[ 48.  72.]\n",
      " [ 72. 108.]\n",
      " [ 60.  90.]\n",
      " [ 32.  48.]\n",
      " [ 28.  42.]]\n",
      "chi_squared :  5.638227513227513\n",
      "degrees_of_freedom :  4\n",
      "critical_value :  9.487729036781154\n",
      "Chi-Square Statistic: 5.638227513227513\n",
      "Critical Value: 9.487729036781154\n",
      "Decision: Fail to reject the null hypothesis\n",
      "Conclusion: There is no significant association between the type of smart home device purchased and the customer's satisfaction level.\n"
     ]
    }
   ],
   "source": [
    "import numpy as np\n",
    "from scipy.stats import chi2\n",
    "\n",
    "# Define the observed frequencies\n",
    "observed = np.array([[50, 70],\n",
    "                      [80, 100],\n",
    "                      [60, 90],\n",
    "                      [30, 50],\n",
    "                      [20, 50]])\n",
    "\n",
    "# Calculate row totals\n",
    "row_totals = np.sum(observed, axis=1)\n",
    "print(\"row_totals : \",row_totals)\n",
    "\n",
    "# Calculate column totals\n",
    "col_totals = np.sum(observed, axis=0)\n",
    "print(\"col_totals : \",col_totals)\n",
    "\n",
    "# Calculate the grand total\n",
    "grand_total = np.sum(observed)\n",
    "print(\"grand_total : \",grand_total)\n",
    "\n",
    "# Calculate the expected frequencies\n",
    "expected = np.outer(row_totals, col_totals) / grand_total\n",
    "print(\"expected : \",expected)\n",
    "\n",
    "# Calculate the Chi-Square statistic\n",
    "chi_squared = np.sum((observed - expected)**2 / expected)\n",
    "print(\"chi_squared : \",chi_squared)\n",
    "\n",
    "# Determine the degrees of freedom\n",
    "degrees_of_freedom = (observed.shape[0] - 1) * (observed.shape[1] - 1)\n",
    "print(\"degrees_of_freedom : \",degrees_of_freedom)\n",
    "\n",
    "# Determine the critical value (alpha = 0.05)\n",
    "alpha = 0.05\n",
    "critical_value = chi2.ppf(1 - alpha, degrees_of_freedom)\n",
    "print(\"critical_value : \",critical_value)\n",
    "\n",
    "# Print the results\n",
    "print(\"Chi-Square Statistic:\", chi_squared)\n",
    "print(\"Critical Value:\", critical_value)\n",
    "\n",
    "# Make a decision\n",
    "if chi_squared > critical_value:\n",
    "    print(\"Decision: Reject the null hypothesis\")\n",
    "    print(\"Conclusion: There is a significant association between the type of smart home device purchased and the customer's satisfaction level.\")\n",
    "else:\n",
    "    print(\"Decision: Fail to reject the null hypothesis\")\n",
    "    print(\"Conclusion: There is no significant association between the type of smart home device purchased and the customer's satisfaction level.\")\n"
   ]
  },
  {
   "cell_type": "code",
   "execution_count": null,
   "id": "675d90c8",
   "metadata": {},
   "outputs": [],
   "source": []
  }
 ],
 "metadata": {
  "kernelspec": {
   "display_name": "Python 3 (ipykernel)",
   "language": "python",
   "name": "python3"
  },
  "language_info": {
   "codemirror_mode": {
    "name": "ipython",
    "version": 3
   },
   "file_extension": ".py",
   "mimetype": "text/x-python",
   "name": "python",
   "nbconvert_exporter": "python",
   "pygments_lexer": "ipython3",
   "version": "3.11.5"
  }
 },
 "nbformat": 4,
 "nbformat_minor": 5
}
